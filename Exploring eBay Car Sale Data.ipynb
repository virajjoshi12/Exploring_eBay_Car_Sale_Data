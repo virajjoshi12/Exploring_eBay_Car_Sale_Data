{
 "cells": [
  {
   "cell_type": "markdown",
   "metadata": {
    "collapsed": true
   },
   "source": [
    "# Exploring eBay Car Sale Data\n",
    "\n",
    "This project shall work with a dataset of used cars from eBay Kleinanzeigen, a classifieds section of the German eBay website.\n",
    "\n",
    "The dataset was originally scraped and uploaded to Kaggle by user [orgesleka](https://www.kaggle.com/orgesleka). The original dataset isn't available on Kaggle anymore, but you can find it [here](https://data.world/data-society/used-cars-data).\n",
    "\n",
    "One modification has been made from the original dataset:\n",
    "\n",
    "- 50,000 data points have been sampled from the full dataset.\n",
    "\n",
    "The data dictionary provided with the data is as follows:\n",
    "\n",
    "- `dateCrawled`: When this ad was first crawled. All field values are taken from this date.\n",
    "\n",
    "- `name`: Name of the car.\n",
    "\n",
    "- `seller`: Whether the seller is private or a dealer.\n",
    "\n",
    "- `OfferType`: Whether the seller is private or a dealer.\n",
    "\n",
    "- `price`: The price on the ad to sell the car.\n",
    "\n",
    "- `abtest`: Whether the listing is included in an A/B test.\n",
    "\n",
    "- `vehicleType`: The vehicle Type.\n",
    "\n",
    "- `yearOfRegistration`: The year in which the car was first registered.\n",
    "\n",
    "- `gearbox`: The transmission type.\n",
    "\n",
    "- `powerPS`: The power of the car in PS.\n",
    "\n",
    "- `model`: The car model name.\n",
    "\n",
    "- `kilometer`: How many kilometers the car has driven.\n",
    "\n",
    "- `monthOfRegistration`: The month in which the car was first registered.\n",
    "\n",
    "- `fuelType`: What type of fuel the car uses.\n",
    "\n",
    "- `brand`: The brand of the car.\n",
    "\n",
    "- `notRepairedDamage`: If the car has a damage wich is not yet repaired.\n",
    "\n",
    "- `dateCreated`: The date on which the eBay listing was created.\n",
    "\n",
    "- `nrOfPictures`: The number of pictures in the ad.\n",
    "\n",
    "- `postalCode`: The postal code for the location of the vehicle.\n",
    "\n",
    "- `lastSeenOnLine`: When the crawler saw this ad last online.\n",
    "\n",
    "The aim of this project is to clean the data and analyse the included used car listings. We shall now import the libraries we need and read the dataset into pandas."
   ]
  },
  {
   "cell_type": "code",
   "execution_count": 1,
   "metadata": {},
   "outputs": [],
   "source": [
    "# import the pandas library and read \"autos.csv\" in pandas\n",
    "import pandas as pd\n",
    "autos = pd.read_csv(\"autos.csv\", encoding=\"Latin-1\")"
   ]
  },
  {
   "cell_type": "code",
   "execution_count": 36,
   "metadata": {},
   "outputs": [
    {
     "name": "stdout",
     "output_type": "stream",
     "text": [
      "<class 'pandas.core.frame.DataFrame'>\n",
      "RangeIndex: 50000 entries, 0 to 49999\n",
      "Data columns (total 20 columns):\n",
      " #   Column               Non-Null Count  Dtype \n",
      "---  ------               --------------  ----- \n",
      " 0   dateCrawled          50000 non-null  object\n",
      " 1   name                 50000 non-null  object\n",
      " 2   seller               50000 non-null  object\n",
      " 3   offerType            50000 non-null  object\n",
      " 4   price                50000 non-null  object\n",
      " 5   abtest               50000 non-null  object\n",
      " 6   vehicleType          44905 non-null  object\n",
      " 7   yearOfRegistration   50000 non-null  int64 \n",
      " 8   gearbox              47320 non-null  object\n",
      " 9   powerPS              50000 non-null  int64 \n",
      " 10  model                47242 non-null  object\n",
      " 11  odometer             50000 non-null  object\n",
      " 12  monthOfRegistration  50000 non-null  int64 \n",
      " 13  fuelType             45518 non-null  object\n",
      " 14  brand                50000 non-null  object\n",
      " 15  notRepairedDamage    40171 non-null  object\n",
      " 16  dateCreated          50000 non-null  object\n",
      " 17  nrOfPictures         50000 non-null  int64 \n",
      " 18  postalCode           50000 non-null  int64 \n",
      " 19  lastSeen             50000 non-null  object\n",
      "dtypes: int64(5), object(15)\n",
      "memory usage: 7.6+ MB\n"
     ]
    },
    {
     "data": {
      "text/html": [
       "<div>\n",
       "<style scoped>\n",
       "    .dataframe tbody tr th:only-of-type {\n",
       "        vertical-align: middle;\n",
       "    }\n",
       "\n",
       "    .dataframe tbody tr th {\n",
       "        vertical-align: top;\n",
       "    }\n",
       "\n",
       "    .dataframe thead th {\n",
       "        text-align: right;\n",
       "    }\n",
       "</style>\n",
       "<table border=\"1\" class=\"dataframe\">\n",
       "  <thead>\n",
       "    <tr style=\"text-align: right;\">\n",
       "      <th></th>\n",
       "      <th>dateCrawled</th>\n",
       "      <th>name</th>\n",
       "      <th>seller</th>\n",
       "      <th>offerType</th>\n",
       "      <th>price</th>\n",
       "      <th>abtest</th>\n",
       "      <th>vehicleType</th>\n",
       "      <th>yearOfRegistration</th>\n",
       "      <th>gearbox</th>\n",
       "      <th>powerPS</th>\n",
       "      <th>model</th>\n",
       "      <th>odometer</th>\n",
       "      <th>monthOfRegistration</th>\n",
       "      <th>fuelType</th>\n",
       "      <th>brand</th>\n",
       "      <th>notRepairedDamage</th>\n",
       "      <th>dateCreated</th>\n",
       "      <th>nrOfPictures</th>\n",
       "      <th>postalCode</th>\n",
       "      <th>lastSeen</th>\n",
       "    </tr>\n",
       "  </thead>\n",
       "  <tbody>\n",
       "    <tr>\n",
       "      <th>0</th>\n",
       "      <td>2016-03-26 17:47:46</td>\n",
       "      <td>Peugeot_807_160_NAVTECH_ON_BOARD</td>\n",
       "      <td>privat</td>\n",
       "      <td>Angebot</td>\n",
       "      <td>$5,000</td>\n",
       "      <td>control</td>\n",
       "      <td>bus</td>\n",
       "      <td>2004</td>\n",
       "      <td>manuell</td>\n",
       "      <td>158</td>\n",
       "      <td>andere</td>\n",
       "      <td>150,000km</td>\n",
       "      <td>3</td>\n",
       "      <td>lpg</td>\n",
       "      <td>peugeot</td>\n",
       "      <td>nein</td>\n",
       "      <td>2016-03-26 00:00:00</td>\n",
       "      <td>0</td>\n",
       "      <td>79588</td>\n",
       "      <td>2016-04-06 06:45:54</td>\n",
       "    </tr>\n",
       "    <tr>\n",
       "      <th>1</th>\n",
       "      <td>2016-04-04 13:38:56</td>\n",
       "      <td>BMW_740i_4_4_Liter_HAMANN_UMBAU_Mega_Optik</td>\n",
       "      <td>privat</td>\n",
       "      <td>Angebot</td>\n",
       "      <td>$8,500</td>\n",
       "      <td>control</td>\n",
       "      <td>limousine</td>\n",
       "      <td>1997</td>\n",
       "      <td>automatik</td>\n",
       "      <td>286</td>\n",
       "      <td>7er</td>\n",
       "      <td>150,000km</td>\n",
       "      <td>6</td>\n",
       "      <td>benzin</td>\n",
       "      <td>bmw</td>\n",
       "      <td>nein</td>\n",
       "      <td>2016-04-04 00:00:00</td>\n",
       "      <td>0</td>\n",
       "      <td>71034</td>\n",
       "      <td>2016-04-06 14:45:08</td>\n",
       "    </tr>\n",
       "    <tr>\n",
       "      <th>2</th>\n",
       "      <td>2016-03-26 18:57:24</td>\n",
       "      <td>Volkswagen_Golf_1.6_United</td>\n",
       "      <td>privat</td>\n",
       "      <td>Angebot</td>\n",
       "      <td>$8,990</td>\n",
       "      <td>test</td>\n",
       "      <td>limousine</td>\n",
       "      <td>2009</td>\n",
       "      <td>manuell</td>\n",
       "      <td>102</td>\n",
       "      <td>golf</td>\n",
       "      <td>70,000km</td>\n",
       "      <td>7</td>\n",
       "      <td>benzin</td>\n",
       "      <td>volkswagen</td>\n",
       "      <td>nein</td>\n",
       "      <td>2016-03-26 00:00:00</td>\n",
       "      <td>0</td>\n",
       "      <td>35394</td>\n",
       "      <td>2016-04-06 20:15:37</td>\n",
       "    </tr>\n",
       "    <tr>\n",
       "      <th>3</th>\n",
       "      <td>2016-03-12 16:58:10</td>\n",
       "      <td>Smart_smart_fortwo_coupe_softouch/F1/Klima/Pan...</td>\n",
       "      <td>privat</td>\n",
       "      <td>Angebot</td>\n",
       "      <td>$4,350</td>\n",
       "      <td>control</td>\n",
       "      <td>kleinwagen</td>\n",
       "      <td>2007</td>\n",
       "      <td>automatik</td>\n",
       "      <td>71</td>\n",
       "      <td>fortwo</td>\n",
       "      <td>70,000km</td>\n",
       "      <td>6</td>\n",
       "      <td>benzin</td>\n",
       "      <td>smart</td>\n",
       "      <td>nein</td>\n",
       "      <td>2016-03-12 00:00:00</td>\n",
       "      <td>0</td>\n",
       "      <td>33729</td>\n",
       "      <td>2016-03-15 03:16:28</td>\n",
       "    </tr>\n",
       "    <tr>\n",
       "      <th>4</th>\n",
       "      <td>2016-04-01 14:38:50</td>\n",
       "      <td>Ford_Focus_1_6_Benzin_TÜV_neu_ist_sehr_gepfleg...</td>\n",
       "      <td>privat</td>\n",
       "      <td>Angebot</td>\n",
       "      <td>$1,350</td>\n",
       "      <td>test</td>\n",
       "      <td>kombi</td>\n",
       "      <td>2003</td>\n",
       "      <td>manuell</td>\n",
       "      <td>0</td>\n",
       "      <td>focus</td>\n",
       "      <td>150,000km</td>\n",
       "      <td>7</td>\n",
       "      <td>benzin</td>\n",
       "      <td>ford</td>\n",
       "      <td>nein</td>\n",
       "      <td>2016-04-01 00:00:00</td>\n",
       "      <td>0</td>\n",
       "      <td>39218</td>\n",
       "      <td>2016-04-01 14:38:50</td>\n",
       "    </tr>\n",
       "    <tr>\n",
       "      <th>5</th>\n",
       "      <td>2016-03-21 13:47:45</td>\n",
       "      <td>Chrysler_Grand_Voyager_2.8_CRD_Aut.Limited_Sto...</td>\n",
       "      <td>privat</td>\n",
       "      <td>Angebot</td>\n",
       "      <td>$7,900</td>\n",
       "      <td>test</td>\n",
       "      <td>bus</td>\n",
       "      <td>2006</td>\n",
       "      <td>automatik</td>\n",
       "      <td>150</td>\n",
       "      <td>voyager</td>\n",
       "      <td>150,000km</td>\n",
       "      <td>4</td>\n",
       "      <td>diesel</td>\n",
       "      <td>chrysler</td>\n",
       "      <td>NaN</td>\n",
       "      <td>2016-03-21 00:00:00</td>\n",
       "      <td>0</td>\n",
       "      <td>22962</td>\n",
       "      <td>2016-04-06 09:45:21</td>\n",
       "    </tr>\n",
       "  </tbody>\n",
       "</table>\n",
       "</div>"
      ],
      "text/plain": [
       "           dateCrawled                                               name  \\\n",
       "0  2016-03-26 17:47:46                   Peugeot_807_160_NAVTECH_ON_BOARD   \n",
       "1  2016-04-04 13:38:56         BMW_740i_4_4_Liter_HAMANN_UMBAU_Mega_Optik   \n",
       "2  2016-03-26 18:57:24                         Volkswagen_Golf_1.6_United   \n",
       "3  2016-03-12 16:58:10  Smart_smart_fortwo_coupe_softouch/F1/Klima/Pan...   \n",
       "4  2016-04-01 14:38:50  Ford_Focus_1_6_Benzin_TÜV_neu_ist_sehr_gepfleg...   \n",
       "5  2016-03-21 13:47:45  Chrysler_Grand_Voyager_2.8_CRD_Aut.Limited_Sto...   \n",
       "\n",
       "   seller offerType   price   abtest vehicleType  yearOfRegistration  \\\n",
       "0  privat   Angebot  $5,000  control         bus                2004   \n",
       "1  privat   Angebot  $8,500  control   limousine                1997   \n",
       "2  privat   Angebot  $8,990     test   limousine                2009   \n",
       "3  privat   Angebot  $4,350  control  kleinwagen                2007   \n",
       "4  privat   Angebot  $1,350     test       kombi                2003   \n",
       "5  privat   Angebot  $7,900     test         bus                2006   \n",
       "\n",
       "     gearbox  powerPS    model   odometer  monthOfRegistration fuelType  \\\n",
       "0    manuell      158   andere  150,000km                    3      lpg   \n",
       "1  automatik      286      7er  150,000km                    6   benzin   \n",
       "2    manuell      102     golf   70,000km                    7   benzin   \n",
       "3  automatik       71   fortwo   70,000km                    6   benzin   \n",
       "4    manuell        0    focus  150,000km                    7   benzin   \n",
       "5  automatik      150  voyager  150,000km                    4   diesel   \n",
       "\n",
       "        brand notRepairedDamage          dateCreated  nrOfPictures  \\\n",
       "0     peugeot              nein  2016-03-26 00:00:00             0   \n",
       "1         bmw              nein  2016-04-04 00:00:00             0   \n",
       "2  volkswagen              nein  2016-03-26 00:00:00             0   \n",
       "3       smart              nein  2016-03-12 00:00:00             0   \n",
       "4        ford              nein  2016-04-01 00:00:00             0   \n",
       "5    chrysler               NaN  2016-03-21 00:00:00             0   \n",
       "\n",
       "   postalCode             lastSeen  \n",
       "0       79588  2016-04-06 06:45:54  \n",
       "1       71034  2016-04-06 14:45:08  \n",
       "2       35394  2016-04-06 20:15:37  \n",
       "3       33729  2016-03-15 03:16:28  \n",
       "4       39218  2016-04-01 14:38:50  \n",
       "5       22962  2016-04-06 09:45:21  "
      ]
     },
     "execution_count": 36,
     "metadata": {},
     "output_type": "execute_result"
    }
   ],
   "source": [
    "# display information about the data set and print first six rows\n",
    "autos.info()\n",
    "autos.head(6)"
   ]
  },
  {
   "cell_type": "markdown",
   "metadata": {},
   "source": [
    "The dataset we're looking into has 20 columns and 50000 rows. Only 5 out of the 20 columns have a dtype `int64`, while the rest are dtype `object`. \n",
    "\n",
    "Some columns have null values, but none have more than ~20% null values."
   ]
  },
  {
   "cell_type": "markdown",
   "metadata": {},
   "source": [
    "## Cleaning Column Names\n",
    "The column names use camelcase instead of Python's preferred snakecase, which means we can't just replace the spaces with underscores. \n",
    "\n",
    "We shall now convert the column names from camelcase to snakecase and reword some of the column names based on the data dictionary to be more descriptive."
   ]
  },
  {
   "cell_type": "code",
   "execution_count": 37,
   "metadata": {},
   "outputs": [
    {
     "data": {
      "text/plain": [
       "Index(['dateCrawled', 'name', 'seller', 'offerType', 'price', 'abtest',\n",
       "       'vehicleType', 'yearOfRegistration', 'gearbox', 'powerPS', 'model',\n",
       "       'odometer', 'monthOfRegistration', 'fuelType', 'brand',\n",
       "       'notRepairedDamage', 'dateCreated', 'nrOfPictures', 'postalCode',\n",
       "       'lastSeen'],\n",
       "      dtype='object')"
      ]
     },
     "execution_count": 37,
     "metadata": {},
     "output_type": "execute_result"
    }
   ],
   "source": [
    "# column names in the dataset\n",
    "autos.columns"
   ]
  },
  {
   "cell_type": "code",
   "execution_count": 38,
   "metadata": {},
   "outputs": [
    {
     "data": {
      "text/html": [
       "<div>\n",
       "<style scoped>\n",
       "    .dataframe tbody tr th:only-of-type {\n",
       "        vertical-align: middle;\n",
       "    }\n",
       "\n",
       "    .dataframe tbody tr th {\n",
       "        vertical-align: top;\n",
       "    }\n",
       "\n",
       "    .dataframe thead th {\n",
       "        text-align: right;\n",
       "    }\n",
       "</style>\n",
       "<table border=\"1\" class=\"dataframe\">\n",
       "  <thead>\n",
       "    <tr style=\"text-align: right;\">\n",
       "      <th></th>\n",
       "      <th>date_crawled</th>\n",
       "      <th>name</th>\n",
       "      <th>seller</th>\n",
       "      <th>offer_type</th>\n",
       "      <th>price</th>\n",
       "      <th>abtest</th>\n",
       "      <th>vehicle_type</th>\n",
       "      <th>registration_year</th>\n",
       "      <th>gearbox</th>\n",
       "      <th>power_ps</th>\n",
       "      <th>model</th>\n",
       "      <th>odometer</th>\n",
       "      <th>registration_month</th>\n",
       "      <th>fuel_type</th>\n",
       "      <th>brand</th>\n",
       "      <th>unrepaired_damage</th>\n",
       "      <th>ad_created</th>\n",
       "      <th>nr_of_pictures</th>\n",
       "      <th>postal_code</th>\n",
       "      <th>last_seen</th>\n",
       "    </tr>\n",
       "  </thead>\n",
       "  <tbody>\n",
       "    <tr>\n",
       "      <th>0</th>\n",
       "      <td>2016-03-26 17:47:46</td>\n",
       "      <td>Peugeot_807_160_NAVTECH_ON_BOARD</td>\n",
       "      <td>privat</td>\n",
       "      <td>Angebot</td>\n",
       "      <td>$5,000</td>\n",
       "      <td>control</td>\n",
       "      <td>bus</td>\n",
       "      <td>2004</td>\n",
       "      <td>manuell</td>\n",
       "      <td>158</td>\n",
       "      <td>andere</td>\n",
       "      <td>150,000km</td>\n",
       "      <td>3</td>\n",
       "      <td>lpg</td>\n",
       "      <td>peugeot</td>\n",
       "      <td>nein</td>\n",
       "      <td>2016-03-26 00:00:00</td>\n",
       "      <td>0</td>\n",
       "      <td>79588</td>\n",
       "      <td>2016-04-06 06:45:54</td>\n",
       "    </tr>\n",
       "    <tr>\n",
       "      <th>1</th>\n",
       "      <td>2016-04-04 13:38:56</td>\n",
       "      <td>BMW_740i_4_4_Liter_HAMANN_UMBAU_Mega_Optik</td>\n",
       "      <td>privat</td>\n",
       "      <td>Angebot</td>\n",
       "      <td>$8,500</td>\n",
       "      <td>control</td>\n",
       "      <td>limousine</td>\n",
       "      <td>1997</td>\n",
       "      <td>automatik</td>\n",
       "      <td>286</td>\n",
       "      <td>7er</td>\n",
       "      <td>150,000km</td>\n",
       "      <td>6</td>\n",
       "      <td>benzin</td>\n",
       "      <td>bmw</td>\n",
       "      <td>nein</td>\n",
       "      <td>2016-04-04 00:00:00</td>\n",
       "      <td>0</td>\n",
       "      <td>71034</td>\n",
       "      <td>2016-04-06 14:45:08</td>\n",
       "    </tr>\n",
       "    <tr>\n",
       "      <th>2</th>\n",
       "      <td>2016-03-26 18:57:24</td>\n",
       "      <td>Volkswagen_Golf_1.6_United</td>\n",
       "      <td>privat</td>\n",
       "      <td>Angebot</td>\n",
       "      <td>$8,990</td>\n",
       "      <td>test</td>\n",
       "      <td>limousine</td>\n",
       "      <td>2009</td>\n",
       "      <td>manuell</td>\n",
       "      <td>102</td>\n",
       "      <td>golf</td>\n",
       "      <td>70,000km</td>\n",
       "      <td>7</td>\n",
       "      <td>benzin</td>\n",
       "      <td>volkswagen</td>\n",
       "      <td>nein</td>\n",
       "      <td>2016-03-26 00:00:00</td>\n",
       "      <td>0</td>\n",
       "      <td>35394</td>\n",
       "      <td>2016-04-06 20:15:37</td>\n",
       "    </tr>\n",
       "    <tr>\n",
       "      <th>3</th>\n",
       "      <td>2016-03-12 16:58:10</td>\n",
       "      <td>Smart_smart_fortwo_coupe_softouch/F1/Klima/Pan...</td>\n",
       "      <td>privat</td>\n",
       "      <td>Angebot</td>\n",
       "      <td>$4,350</td>\n",
       "      <td>control</td>\n",
       "      <td>kleinwagen</td>\n",
       "      <td>2007</td>\n",
       "      <td>automatik</td>\n",
       "      <td>71</td>\n",
       "      <td>fortwo</td>\n",
       "      <td>70,000km</td>\n",
       "      <td>6</td>\n",
       "      <td>benzin</td>\n",
       "      <td>smart</td>\n",
       "      <td>nein</td>\n",
       "      <td>2016-03-12 00:00:00</td>\n",
       "      <td>0</td>\n",
       "      <td>33729</td>\n",
       "      <td>2016-03-15 03:16:28</td>\n",
       "    </tr>\n",
       "    <tr>\n",
       "      <th>4</th>\n",
       "      <td>2016-04-01 14:38:50</td>\n",
       "      <td>Ford_Focus_1_6_Benzin_TÜV_neu_ist_sehr_gepfleg...</td>\n",
       "      <td>privat</td>\n",
       "      <td>Angebot</td>\n",
       "      <td>$1,350</td>\n",
       "      <td>test</td>\n",
       "      <td>kombi</td>\n",
       "      <td>2003</td>\n",
       "      <td>manuell</td>\n",
       "      <td>0</td>\n",
       "      <td>focus</td>\n",
       "      <td>150,000km</td>\n",
       "      <td>7</td>\n",
       "      <td>benzin</td>\n",
       "      <td>ford</td>\n",
       "      <td>nein</td>\n",
       "      <td>2016-04-01 00:00:00</td>\n",
       "      <td>0</td>\n",
       "      <td>39218</td>\n",
       "      <td>2016-04-01 14:38:50</td>\n",
       "    </tr>\n",
       "  </tbody>\n",
       "</table>\n",
       "</div>"
      ],
      "text/plain": [
       "          date_crawled                                               name  \\\n",
       "0  2016-03-26 17:47:46                   Peugeot_807_160_NAVTECH_ON_BOARD   \n",
       "1  2016-04-04 13:38:56         BMW_740i_4_4_Liter_HAMANN_UMBAU_Mega_Optik   \n",
       "2  2016-03-26 18:57:24                         Volkswagen_Golf_1.6_United   \n",
       "3  2016-03-12 16:58:10  Smart_smart_fortwo_coupe_softouch/F1/Klima/Pan...   \n",
       "4  2016-04-01 14:38:50  Ford_Focus_1_6_Benzin_TÜV_neu_ist_sehr_gepfleg...   \n",
       "\n",
       "   seller offer_type   price   abtest vehicle_type  registration_year  \\\n",
       "0  privat    Angebot  $5,000  control          bus               2004   \n",
       "1  privat    Angebot  $8,500  control    limousine               1997   \n",
       "2  privat    Angebot  $8,990     test    limousine               2009   \n",
       "3  privat    Angebot  $4,350  control   kleinwagen               2007   \n",
       "4  privat    Angebot  $1,350     test        kombi               2003   \n",
       "\n",
       "     gearbox  power_ps   model   odometer  registration_month fuel_type  \\\n",
       "0    manuell       158  andere  150,000km                   3       lpg   \n",
       "1  automatik       286     7er  150,000km                   6    benzin   \n",
       "2    manuell       102    golf   70,000km                   7    benzin   \n",
       "3  automatik        71  fortwo   70,000km                   6    benzin   \n",
       "4    manuell         0   focus  150,000km                   7    benzin   \n",
       "\n",
       "        brand unrepaired_damage           ad_created  nr_of_pictures  \\\n",
       "0     peugeot              nein  2016-03-26 00:00:00               0   \n",
       "1         bmw              nein  2016-04-04 00:00:00               0   \n",
       "2  volkswagen              nein  2016-03-26 00:00:00               0   \n",
       "3       smart              nein  2016-03-12 00:00:00               0   \n",
       "4        ford              nein  2016-04-01 00:00:00               0   \n",
       "\n",
       "   postal_code            last_seen  \n",
       "0        79588  2016-04-06 06:45:54  \n",
       "1        71034  2016-04-06 14:45:08  \n",
       "2        35394  2016-04-06 20:15:37  \n",
       "3        33729  2016-03-15 03:16:28  \n",
       "4        39218  2016-04-01 14:38:50  "
      ]
     },
     "execution_count": 38,
     "metadata": {},
     "output_type": "execute_result"
    }
   ],
   "source": [
    "# edit column names\n",
    "autos.rename({\"yearOfRegistration\": \"registration_year\",\n",
    "              \"monthOfRegistration\": \"registration_month\",\n",
    "              \"notRepairedDamage\": \"unrepaired_damage\",\n",
    "              \"dateCreated\": \"ad_created\",\n",
    "              \"dateCrawled\": \"date_crawled\",\n",
    "              \"offerType\": \"offer_type\",\n",
    "              \"vehicleType\": \"vehicle_type\",\n",
    "              \"powerPS\": \"power_ps\",\n",
    "              \"fuelType\": \"fuel_type\",\n",
    "              \"nrOfPictures\": \"nr_of_pictures\",\n",
    "              \"postalCode\": \"postal_code\",\n",
    "              \"lastSeen\": \"last_seen\"}, axis=1, inplace=True\n",
    "              )\n",
    "\n",
    "# display first five rows\n",
    "autos.head()"
   ]
  },
  {
   "cell_type": "markdown",
   "metadata": {},
   "source": [
    "## Initial Exploration and Cleaning\n",
    "\n",
    "Now we shall do some basic data exploration to determine what other cleaning tasks need to be done. Initially we will look for:\n",
    "\n",
    "- Text columns where all or almost all values are the same. These can often be dropped as they don't have useful information for analysis.\n",
    "- Examples of numeric data stored as text which can be cleaned and converted.\n",
    "\n",
    "The following methods are helpful for exploring the data:\n",
    "- `DataFrame.describe()`(with `include='all'` to get both categorical and numerical columns).\n",
    "- `Series.value_counts()` and `Series.head()` if any columns need a closer look."
   ]
  },
  {
   "cell_type": "code",
   "execution_count": 39,
   "metadata": {},
   "outputs": [
    {
     "data": {
      "text/html": [
       "<div>\n",
       "<style scoped>\n",
       "    .dataframe tbody tr th:only-of-type {\n",
       "        vertical-align: middle;\n",
       "    }\n",
       "\n",
       "    .dataframe tbody tr th {\n",
       "        vertical-align: top;\n",
       "    }\n",
       "\n",
       "    .dataframe thead th {\n",
       "        text-align: right;\n",
       "    }\n",
       "</style>\n",
       "<table border=\"1\" class=\"dataframe\">\n",
       "  <thead>\n",
       "    <tr style=\"text-align: right;\">\n",
       "      <th></th>\n",
       "      <th>date_crawled</th>\n",
       "      <th>name</th>\n",
       "      <th>seller</th>\n",
       "      <th>offer_type</th>\n",
       "      <th>price</th>\n",
       "      <th>abtest</th>\n",
       "      <th>vehicle_type</th>\n",
       "      <th>registration_year</th>\n",
       "      <th>gearbox</th>\n",
       "      <th>power_ps</th>\n",
       "      <th>model</th>\n",
       "      <th>odometer</th>\n",
       "      <th>registration_month</th>\n",
       "      <th>fuel_type</th>\n",
       "      <th>brand</th>\n",
       "      <th>unrepaired_damage</th>\n",
       "      <th>ad_created</th>\n",
       "      <th>nr_of_pictures</th>\n",
       "      <th>postal_code</th>\n",
       "      <th>last_seen</th>\n",
       "    </tr>\n",
       "  </thead>\n",
       "  <tbody>\n",
       "    <tr>\n",
       "      <th>count</th>\n",
       "      <td>50000</td>\n",
       "      <td>50000</td>\n",
       "      <td>50000</td>\n",
       "      <td>50000</td>\n",
       "      <td>50000</td>\n",
       "      <td>50000</td>\n",
       "      <td>44905</td>\n",
       "      <td>50000.000000</td>\n",
       "      <td>47320</td>\n",
       "      <td>50000.000000</td>\n",
       "      <td>47242</td>\n",
       "      <td>50000</td>\n",
       "      <td>50000.000000</td>\n",
       "      <td>45518</td>\n",
       "      <td>50000</td>\n",
       "      <td>40171</td>\n",
       "      <td>50000</td>\n",
       "      <td>50000.0</td>\n",
       "      <td>50000.000000</td>\n",
       "      <td>50000</td>\n",
       "    </tr>\n",
       "    <tr>\n",
       "      <th>unique</th>\n",
       "      <td>48213</td>\n",
       "      <td>38754</td>\n",
       "      <td>2</td>\n",
       "      <td>2</td>\n",
       "      <td>2357</td>\n",
       "      <td>2</td>\n",
       "      <td>8</td>\n",
       "      <td>NaN</td>\n",
       "      <td>2</td>\n",
       "      <td>NaN</td>\n",
       "      <td>245</td>\n",
       "      <td>13</td>\n",
       "      <td>NaN</td>\n",
       "      <td>7</td>\n",
       "      <td>40</td>\n",
       "      <td>2</td>\n",
       "      <td>76</td>\n",
       "      <td>NaN</td>\n",
       "      <td>NaN</td>\n",
       "      <td>39481</td>\n",
       "    </tr>\n",
       "    <tr>\n",
       "      <th>top</th>\n",
       "      <td>2016-04-02 15:49:30</td>\n",
       "      <td>Ford_Fiesta</td>\n",
       "      <td>privat</td>\n",
       "      <td>Angebot</td>\n",
       "      <td>$0</td>\n",
       "      <td>test</td>\n",
       "      <td>limousine</td>\n",
       "      <td>NaN</td>\n",
       "      <td>manuell</td>\n",
       "      <td>NaN</td>\n",
       "      <td>golf</td>\n",
       "      <td>150,000km</td>\n",
       "      <td>NaN</td>\n",
       "      <td>benzin</td>\n",
       "      <td>volkswagen</td>\n",
       "      <td>nein</td>\n",
       "      <td>2016-04-03 00:00:00</td>\n",
       "      <td>NaN</td>\n",
       "      <td>NaN</td>\n",
       "      <td>2016-04-07 06:17:27</td>\n",
       "    </tr>\n",
       "    <tr>\n",
       "      <th>freq</th>\n",
       "      <td>3</td>\n",
       "      <td>78</td>\n",
       "      <td>49999</td>\n",
       "      <td>49999</td>\n",
       "      <td>1421</td>\n",
       "      <td>25756</td>\n",
       "      <td>12859</td>\n",
       "      <td>NaN</td>\n",
       "      <td>36993</td>\n",
       "      <td>NaN</td>\n",
       "      <td>4024</td>\n",
       "      <td>32424</td>\n",
       "      <td>NaN</td>\n",
       "      <td>30107</td>\n",
       "      <td>10687</td>\n",
       "      <td>35232</td>\n",
       "      <td>1946</td>\n",
       "      <td>NaN</td>\n",
       "      <td>NaN</td>\n",
       "      <td>8</td>\n",
       "    </tr>\n",
       "    <tr>\n",
       "      <th>mean</th>\n",
       "      <td>NaN</td>\n",
       "      <td>NaN</td>\n",
       "      <td>NaN</td>\n",
       "      <td>NaN</td>\n",
       "      <td>NaN</td>\n",
       "      <td>NaN</td>\n",
       "      <td>NaN</td>\n",
       "      <td>2005.073280</td>\n",
       "      <td>NaN</td>\n",
       "      <td>116.355920</td>\n",
       "      <td>NaN</td>\n",
       "      <td>NaN</td>\n",
       "      <td>5.723360</td>\n",
       "      <td>NaN</td>\n",
       "      <td>NaN</td>\n",
       "      <td>NaN</td>\n",
       "      <td>NaN</td>\n",
       "      <td>0.0</td>\n",
       "      <td>50813.627300</td>\n",
       "      <td>NaN</td>\n",
       "    </tr>\n",
       "    <tr>\n",
       "      <th>std</th>\n",
       "      <td>NaN</td>\n",
       "      <td>NaN</td>\n",
       "      <td>NaN</td>\n",
       "      <td>NaN</td>\n",
       "      <td>NaN</td>\n",
       "      <td>NaN</td>\n",
       "      <td>NaN</td>\n",
       "      <td>105.712813</td>\n",
       "      <td>NaN</td>\n",
       "      <td>209.216627</td>\n",
       "      <td>NaN</td>\n",
       "      <td>NaN</td>\n",
       "      <td>3.711984</td>\n",
       "      <td>NaN</td>\n",
       "      <td>NaN</td>\n",
       "      <td>NaN</td>\n",
       "      <td>NaN</td>\n",
       "      <td>0.0</td>\n",
       "      <td>25779.747957</td>\n",
       "      <td>NaN</td>\n",
       "    </tr>\n",
       "    <tr>\n",
       "      <th>min</th>\n",
       "      <td>NaN</td>\n",
       "      <td>NaN</td>\n",
       "      <td>NaN</td>\n",
       "      <td>NaN</td>\n",
       "      <td>NaN</td>\n",
       "      <td>NaN</td>\n",
       "      <td>NaN</td>\n",
       "      <td>1000.000000</td>\n",
       "      <td>NaN</td>\n",
       "      <td>0.000000</td>\n",
       "      <td>NaN</td>\n",
       "      <td>NaN</td>\n",
       "      <td>0.000000</td>\n",
       "      <td>NaN</td>\n",
       "      <td>NaN</td>\n",
       "      <td>NaN</td>\n",
       "      <td>NaN</td>\n",
       "      <td>0.0</td>\n",
       "      <td>1067.000000</td>\n",
       "      <td>NaN</td>\n",
       "    </tr>\n",
       "    <tr>\n",
       "      <th>25%</th>\n",
       "      <td>NaN</td>\n",
       "      <td>NaN</td>\n",
       "      <td>NaN</td>\n",
       "      <td>NaN</td>\n",
       "      <td>NaN</td>\n",
       "      <td>NaN</td>\n",
       "      <td>NaN</td>\n",
       "      <td>1999.000000</td>\n",
       "      <td>NaN</td>\n",
       "      <td>70.000000</td>\n",
       "      <td>NaN</td>\n",
       "      <td>NaN</td>\n",
       "      <td>3.000000</td>\n",
       "      <td>NaN</td>\n",
       "      <td>NaN</td>\n",
       "      <td>NaN</td>\n",
       "      <td>NaN</td>\n",
       "      <td>0.0</td>\n",
       "      <td>30451.000000</td>\n",
       "      <td>NaN</td>\n",
       "    </tr>\n",
       "    <tr>\n",
       "      <th>50%</th>\n",
       "      <td>NaN</td>\n",
       "      <td>NaN</td>\n",
       "      <td>NaN</td>\n",
       "      <td>NaN</td>\n",
       "      <td>NaN</td>\n",
       "      <td>NaN</td>\n",
       "      <td>NaN</td>\n",
       "      <td>2003.000000</td>\n",
       "      <td>NaN</td>\n",
       "      <td>105.000000</td>\n",
       "      <td>NaN</td>\n",
       "      <td>NaN</td>\n",
       "      <td>6.000000</td>\n",
       "      <td>NaN</td>\n",
       "      <td>NaN</td>\n",
       "      <td>NaN</td>\n",
       "      <td>NaN</td>\n",
       "      <td>0.0</td>\n",
       "      <td>49577.000000</td>\n",
       "      <td>NaN</td>\n",
       "    </tr>\n",
       "    <tr>\n",
       "      <th>75%</th>\n",
       "      <td>NaN</td>\n",
       "      <td>NaN</td>\n",
       "      <td>NaN</td>\n",
       "      <td>NaN</td>\n",
       "      <td>NaN</td>\n",
       "      <td>NaN</td>\n",
       "      <td>NaN</td>\n",
       "      <td>2008.000000</td>\n",
       "      <td>NaN</td>\n",
       "      <td>150.000000</td>\n",
       "      <td>NaN</td>\n",
       "      <td>NaN</td>\n",
       "      <td>9.000000</td>\n",
       "      <td>NaN</td>\n",
       "      <td>NaN</td>\n",
       "      <td>NaN</td>\n",
       "      <td>NaN</td>\n",
       "      <td>0.0</td>\n",
       "      <td>71540.000000</td>\n",
       "      <td>NaN</td>\n",
       "    </tr>\n",
       "    <tr>\n",
       "      <th>max</th>\n",
       "      <td>NaN</td>\n",
       "      <td>NaN</td>\n",
       "      <td>NaN</td>\n",
       "      <td>NaN</td>\n",
       "      <td>NaN</td>\n",
       "      <td>NaN</td>\n",
       "      <td>NaN</td>\n",
       "      <td>9999.000000</td>\n",
       "      <td>NaN</td>\n",
       "      <td>17700.000000</td>\n",
       "      <td>NaN</td>\n",
       "      <td>NaN</td>\n",
       "      <td>12.000000</td>\n",
       "      <td>NaN</td>\n",
       "      <td>NaN</td>\n",
       "      <td>NaN</td>\n",
       "      <td>NaN</td>\n",
       "      <td>0.0</td>\n",
       "      <td>99998.000000</td>\n",
       "      <td>NaN</td>\n",
       "    </tr>\n",
       "  </tbody>\n",
       "</table>\n",
       "</div>"
      ],
      "text/plain": [
       "               date_crawled         name  seller offer_type  price abtest  \\\n",
       "count                 50000        50000   50000      50000  50000  50000   \n",
       "unique                48213        38754       2          2   2357      2   \n",
       "top     2016-04-02 15:49:30  Ford_Fiesta  privat    Angebot     $0   test   \n",
       "freq                      3           78   49999      49999   1421  25756   \n",
       "mean                    NaN          NaN     NaN        NaN    NaN    NaN   \n",
       "std                     NaN          NaN     NaN        NaN    NaN    NaN   \n",
       "min                     NaN          NaN     NaN        NaN    NaN    NaN   \n",
       "25%                     NaN          NaN     NaN        NaN    NaN    NaN   \n",
       "50%                     NaN          NaN     NaN        NaN    NaN    NaN   \n",
       "75%                     NaN          NaN     NaN        NaN    NaN    NaN   \n",
       "max                     NaN          NaN     NaN        NaN    NaN    NaN   \n",
       "\n",
       "       vehicle_type  registration_year  gearbox      power_ps  model  \\\n",
       "count         44905       50000.000000    47320  50000.000000  47242   \n",
       "unique            8                NaN        2           NaN    245   \n",
       "top       limousine                NaN  manuell           NaN   golf   \n",
       "freq          12859                NaN    36993           NaN   4024   \n",
       "mean            NaN        2005.073280      NaN    116.355920    NaN   \n",
       "std             NaN         105.712813      NaN    209.216627    NaN   \n",
       "min             NaN        1000.000000      NaN      0.000000    NaN   \n",
       "25%             NaN        1999.000000      NaN     70.000000    NaN   \n",
       "50%             NaN        2003.000000      NaN    105.000000    NaN   \n",
       "75%             NaN        2008.000000      NaN    150.000000    NaN   \n",
       "max             NaN        9999.000000      NaN  17700.000000    NaN   \n",
       "\n",
       "         odometer  registration_month fuel_type       brand unrepaired_damage  \\\n",
       "count       50000        50000.000000     45518       50000             40171   \n",
       "unique         13                 NaN         7          40                 2   \n",
       "top     150,000km                 NaN    benzin  volkswagen              nein   \n",
       "freq        32424                 NaN     30107       10687             35232   \n",
       "mean          NaN            5.723360       NaN         NaN               NaN   \n",
       "std           NaN            3.711984       NaN         NaN               NaN   \n",
       "min           NaN            0.000000       NaN         NaN               NaN   \n",
       "25%           NaN            3.000000       NaN         NaN               NaN   \n",
       "50%           NaN            6.000000       NaN         NaN               NaN   \n",
       "75%           NaN            9.000000       NaN         NaN               NaN   \n",
       "max           NaN           12.000000       NaN         NaN               NaN   \n",
       "\n",
       "                 ad_created  nr_of_pictures   postal_code            last_seen  \n",
       "count                 50000         50000.0  50000.000000                50000  \n",
       "unique                   76             NaN           NaN                39481  \n",
       "top     2016-04-03 00:00:00             NaN           NaN  2016-04-07 06:17:27  \n",
       "freq                   1946             NaN           NaN                    8  \n",
       "mean                    NaN             0.0  50813.627300                  NaN  \n",
       "std                     NaN             0.0  25779.747957                  NaN  \n",
       "min                     NaN             0.0   1067.000000                  NaN  \n",
       "25%                     NaN             0.0  30451.000000                  NaN  \n",
       "50%                     NaN             0.0  49577.000000                  NaN  \n",
       "75%                     NaN             0.0  71540.000000                  NaN  \n",
       "max                     NaN             0.0  99998.000000                  NaN  "
      ]
     },
     "execution_count": 39,
     "metadata": {},
     "output_type": "execute_result"
    }
   ],
   "source": [
    "# describe the entire autos data set\n",
    "autos.describe(include='all')"
   ]
  },
  {
   "cell_type": "markdown",
   "metadata": {},
   "source": [
    "In the `autos` dataset there are two columns, `seller` and `offer_type`, which have mostly one value that are candidates to be dropped.\n",
    "\n",
    "The `seller` column has 49999 values as `privat` and only one as `gewerblich`, i.e. 49999 sellers are private individuals and only one is a commercial establishment.\n",
    "\n",
    "The `offer_type` column, on the other hand, has 49999 values as `Angebot` which is offer in German, and only one value is `Gesuch`, which is request in German.\n",
    "\n",
    "Lastly, the `nr_of_pictures` column countains only one value `0`.\n",
    "\n",
    "We shall now drop columns that mostly have one value and are useless for our analysis."
   ]
  },
  {
   "cell_type": "code",
   "execution_count": 40,
   "metadata": {},
   "outputs": [],
   "source": [
    "# drop unnecessary columns\n",
    "autos.drop(columns=[\"seller\", \"offer_type\", \"nr_of_pictures\"],\n",
    "          inplace=True\n",
    "          )"
   ]
  },
  {
   "cell_type": "markdown",
   "metadata": {},
   "source": [
    "The `price` and `odometer` columns are numeric values stored as text so, firstly, the non-numeric charcters will be removed, then the column shall be converted to a numeric dtype and, finally, `DataFrame.rename()` shall be used to rename the `odometer` column to `odometer_km` and the `price` column to `price_dollars`."
   ]
  },
  {
   "cell_type": "code",
   "execution_count": 41,
   "metadata": {},
   "outputs": [],
   "source": [
    "# remove non-numeric characters and convert to numeric dtype\n",
    "autos[\"price\"] = (autos[\"price\"].str.replace(\"$\", \"\")\n",
    "                               .str.replace(\",\",\"\")\n",
    "                               .astype(float)\n",
    "                 )\n",
    "                  \n",
    "autos[\"odometer\"] = (autos[\"odometer\"].str.replace(\"km\", \"\")\n",
    "                                     .str.replace(\",\",\"\")\n",
    "                                     .astype(float)\n",
    "                    )\n",
    "\n",
    "# rename columns\n",
    "autos.rename({\"odometer\": \"odometer_km\",\n",
    "              \"price\":\"price_dollars\"},\n",
    "              axis=1,\n",
    "              inplace=True\n",
    "            )"
   ]
  },
  {
   "cell_type": "markdown",
   "metadata": {},
   "source": [
    "We shall continue exploring the data, specifically looking for data that doesn't look right. We shall start by analysing the `odometer_km` and `price` columns. The steps we shall take are as follows:\n",
    "\n",
    "- Analyse the columns using minimum and maximum values and look for any values that look unrealistically high or low (outliers) that we might want to remove.\n",
    "\n",
    "- We shall use:\n",
    "\n",
    "1. `Series.unique().shape` to see how many uique values\n",
    "2. `Series.describe()` to view min/max/median/mean etc.\n",
    "3. `Series.value_counts()`, with some variations:\n",
    "  - chanined to `.head()` if there are lots of values.\n",
    "  - Because `Series.value_counts()` returns a series we can use `Series.sort_index()` with `ascending=``True`or`False` to view the highest and lowest values with their counts (can also chain to `head` here.\n",
    "4. When removing outliers, we can do `df[(df[\"col\"] >= x ) & (df[\"col\"] <= y )]`, but it's more readable to use `df[df[\"col\"].between(x,y)]`"
   ]
  },
  {
   "cell_type": "markdown",
   "metadata": {},
   "source": [
    "## Exploring the `odometer_km` column"
   ]
  },
  {
   "cell_type": "code",
   "execution_count": 42,
   "metadata": {},
   "outputs": [
    {
     "data": {
      "text/plain": [
       "(13,)"
      ]
     },
     "execution_count": 42,
     "metadata": {},
     "output_type": "execute_result"
    }
   ],
   "source": [
    "# find total number of values in \"odometer_km\" column\n",
    "autos[\"odometer_km\"].unique().shape"
   ]
  },
  {
   "cell_type": "markdown",
   "metadata": {},
   "source": [
    "The `autos[\"odometer_km\"]` has 13 values. We shall now examine the highest and lowest values in the column."
   ]
  },
  {
   "cell_type": "code",
   "execution_count": 43,
   "metadata": {},
   "outputs": [
    {
     "data": {
      "text/plain": [
       "count     50000.000000\n",
       "mean     125732.700000\n",
       "std       40042.211706\n",
       "min        5000.000000\n",
       "25%      125000.000000\n",
       "50%      150000.000000\n",
       "75%      150000.000000\n",
       "max      150000.000000\n",
       "Name: odometer_km, dtype: float64"
      ]
     },
     "execution_count": 43,
     "metadata": {},
     "output_type": "execute_result"
    }
   ],
   "source": [
    "# describe \"odometer_km\" values\n",
    "autos[\"odometer_km\"].describe()"
   ]
  },
  {
   "cell_type": "markdown",
   "metadata": {},
   "source": [
    "The highest and lowest values in the `autos[\"odometer_km\"]` column are `150000.000000` and `5000.000000` respectively, and neither are unusual with respect to the `autos[\"odometer_km\"]` column.\n",
    "\n",
    "The mean and median values in the column are `125732.700000` and `150000.000000` respectively.\n",
    "\n",
    "We shall further explore this column."
   ]
  },
  {
   "cell_type": "code",
   "execution_count": 44,
   "metadata": {},
   "outputs": [
    {
     "data": {
      "text/plain": [
       "150000.0    32424\n",
       "125000.0     5170\n",
       "100000.0     2169\n",
       "90000.0      1757\n",
       "80000.0      1436\n",
       "70000.0      1230\n",
       "60000.0      1164\n",
       "50000.0      1027\n",
       "40000.0       819\n",
       "30000.0       789\n",
       "20000.0       784\n",
       "10000.0       264\n",
       "5000.0        967\n",
       "Name: odometer_km, dtype: int64"
      ]
     },
     "execution_count": 44,
     "metadata": {},
     "output_type": "execute_result"
    }
   ],
   "source": [
    "# display all values in a descending order\n",
    "autos[\"odometer_km\"].value_counts().sort_index(ascending=False)"
   ]
  },
  {
   "cell_type": "markdown",
   "metadata": {},
   "source": [
    "## Exploring the `price_dollars` column"
   ]
  },
  {
   "cell_type": "markdown",
   "metadata": {},
   "source": [
    "To summarise, none of the values in the column seem to be, in any way, unusual. We shall now examine the `autos[\"price_dollars\"]` column and see if we can find any irregularities."
   ]
  },
  {
   "cell_type": "code",
   "execution_count": 45,
   "metadata": {},
   "outputs": [
    {
     "data": {
      "text/plain": [
       "(2357,)"
      ]
     },
     "execution_count": 45,
     "metadata": {},
     "output_type": "execute_result"
    }
   ],
   "source": [
    "# find total number of values in \"price_dollars\" column\n",
    "autos[\"price_dollars\"].unique().shape"
   ]
  },
  {
   "cell_type": "markdown",
   "metadata": {},
   "source": [
    "There are far more values values in the `autos[\"price_dollars\"]` column, i.e. 2357, than there were in the `autos[\"odometer_km\"]` column."
   ]
  },
  {
   "cell_type": "code",
   "execution_count": 46,
   "metadata": {},
   "outputs": [
    {
     "data": {
      "text/plain": [
       "count    5.000000e+04\n",
       "mean     9.840044e+03\n",
       "std      4.811044e+05\n",
       "min      0.000000e+00\n",
       "25%      1.100000e+03\n",
       "50%      2.950000e+03\n",
       "75%      7.200000e+03\n",
       "max      1.000000e+08\n",
       "Name: price_dollars, dtype: float64"
      ]
     },
     "execution_count": 46,
     "metadata": {},
     "output_type": "execute_result"
    }
   ],
   "source": [
    "# describe \"price_dollars\" column\n",
    "autos[\"price_dollars\"].describe()"
   ]
  },
  {
   "cell_type": "markdown",
   "metadata": {},
   "source": [
    "Both the minimum and maximum values in this column seem rather unusual. `0.000000e+00` and `1.000000e+08` are too low and too high prices for used cars. We shall explore the data further."
   ]
  },
  {
   "cell_type": "code",
   "execution_count": 47,
   "metadata": {},
   "outputs": [
    {
     "data": {
      "text/plain": [
       "99999999.0    1\n",
       "27322222.0    1\n",
       "12345678.0    3\n",
       "11111111.0    2\n",
       "10000000.0    1\n",
       "3890000.0     1\n",
       "1300000.0     1\n",
       "1234566.0     1\n",
       "999999.0      2\n",
       "999990.0      1\n",
       "350000.0      1\n",
       "345000.0      1\n",
       "299000.0      1\n",
       "295000.0      1\n",
       "265000.0      1\n",
       "259000.0      1\n",
       "250000.0      1\n",
       "220000.0      1\n",
       "198000.0      1\n",
       "197000.0      1\n",
       "194000.0      1\n",
       "190000.0      1\n",
       "180000.0      1\n",
       "175000.0      1\n",
       "169999.0      1\n",
       "Name: price_dollars, dtype: int64"
      ]
     },
     "execution_count": 47,
     "metadata": {},
     "output_type": "execute_result"
    }
   ],
   "source": [
    "# determine top 25 prices\n",
    "autos[\"price_dollars\"].value_counts().sort_index(ascending=False).head(25)"
   ]
  },
  {
   "cell_type": "markdown",
   "metadata": {},
   "source": [
    "All the prices above `350000.0` apppear to be random key entries or erroneous data and hence shall be considered outliers."
   ]
  },
  {
   "cell_type": "code",
   "execution_count": 48,
   "metadata": {},
   "outputs": [
    {
     "data": {
      "text/plain": [
       "0.0     1421\n",
       "1.0      156\n",
       "2.0        3\n",
       "3.0        1\n",
       "5.0        2\n",
       "8.0        1\n",
       "9.0        1\n",
       "10.0       7\n",
       "11.0       2\n",
       "12.0       3\n",
       "13.0       2\n",
       "14.0       1\n",
       "15.0       2\n",
       "17.0       3\n",
       "18.0       1\n",
       "20.0       4\n",
       "25.0       5\n",
       "29.0       1\n",
       "30.0       7\n",
       "35.0       1\n",
       "40.0       6\n",
       "45.0       4\n",
       "47.0       1\n",
       "49.0       4\n",
       "50.0      49\n",
       "Name: price_dollars, dtype: int64"
      ]
     },
     "execution_count": 48,
     "metadata": {},
     "output_type": "execute_result"
    }
   ],
   "source": [
    "# determine bottom 25 prices\n",
    "autos[\"price_dollars\"].value_counts().sort_index(ascending=True).head(25)"
   ]
  },
  {
   "cell_type": "markdown",
   "metadata": {},
   "source": [
    "`1421` entries for `0.0` can't be an accident, but for convinience's sake we shall consider them as outliers and remove them from our data."
   ]
  },
  {
   "cell_type": "code",
   "execution_count": 49,
   "metadata": {},
   "outputs": [],
   "source": [
    "# remove erroneous data and updating autos\n",
    "autos = autos[autos[\"price_dollars\"].between(1.0, 350000.0)]"
   ]
  },
  {
   "cell_type": "markdown",
   "metadata": {},
   "source": [
    "## Exploring the date columns"
   ]
  },
  {
   "cell_type": "code",
   "execution_count": 50,
   "metadata": {},
   "outputs": [
    {
     "data": {
      "text/plain": [
       "2016-04-03    0.038608\n",
       "2016-03-20    0.037887\n",
       "2016-03-21    0.037373\n",
       "2016-03-12    0.036920\n",
       "2016-03-14    0.036549\n",
       "2016-04-04    0.036487\n",
       "2016-03-07    0.036014\n",
       "2016-04-02    0.035478\n",
       "2016-03-28    0.034860\n",
       "2016-03-19    0.034778\n",
       "2016-03-15    0.034284\n",
       "2016-03-29    0.034099\n",
       "2016-03-30    0.033687\n",
       "2016-04-01    0.033687\n",
       "2016-03-08    0.033296\n",
       "2016-03-09    0.033090\n",
       "2016-03-22    0.032987\n",
       "2016-03-11    0.032575\n",
       "2016-03-23    0.032225\n",
       "2016-03-26    0.032204\n",
       "2016-03-10    0.032184\n",
       "2016-03-31    0.031834\n",
       "2016-03-17    0.031628\n",
       "2016-03-25    0.031607\n",
       "2016-03-27    0.031092\n",
       "2016-03-16    0.029610\n",
       "2016-03-24    0.029342\n",
       "2016-03-05    0.025327\n",
       "2016-03-13    0.015670\n",
       "2016-03-06    0.014043\n",
       "2016-04-05    0.013096\n",
       "2016-03-18    0.012911\n",
       "2016-04-06    0.003171\n",
       "2016-04-07    0.001400\n",
       "Name: date_crawled, dtype: float64"
      ]
     },
     "execution_count": 50,
     "metadata": {},
     "output_type": "execute_result"
    }
   ],
   "source": [
    "date_crawled = autos[\"date_crawled\"].str[:10]\n",
    "date_crawled.value_counts(normalize=True, dropna=False)"
   ]
  },
  {
   "cell_type": "markdown",
   "metadata": {},
   "source": [
    "The highest data crawling, as can be seen above, has been done on `2016-04-03`. Let's explore the data further. "
   ]
  },
  {
   "cell_type": "code",
   "execution_count": 51,
   "metadata": {},
   "outputs": [
    {
     "data": {
      "text/plain": [
       "2016-03-05    1230\n",
       "2016-03-06     682\n",
       "2016-03-07    1749\n",
       "2016-03-08    1617\n",
       "2016-03-09    1607\n",
       "2016-03-10    1563\n",
       "2016-03-11    1582\n",
       "2016-03-12    1793\n",
       "2016-03-13     761\n",
       "2016-03-14    1775\n",
       "2016-03-15    1665\n",
       "2016-03-16    1438\n",
       "2016-03-17    1536\n",
       "2016-03-18     627\n",
       "2016-03-19    1689\n",
       "2016-03-20    1840\n",
       "2016-03-21    1815\n",
       "2016-03-22    1602\n",
       "2016-03-23    1565\n",
       "2016-03-24    1425\n",
       "2016-03-25    1535\n",
       "2016-03-26    1564\n",
       "2016-03-27    1510\n",
       "2016-03-28    1693\n",
       "2016-03-29    1656\n",
       "2016-03-30    1636\n",
       "2016-03-31    1546\n",
       "2016-04-01    1636\n",
       "2016-04-02    1723\n",
       "2016-04-03    1875\n",
       "2016-04-04    1772\n",
       "2016-04-05     636\n",
       "2016-04-06     154\n",
       "2016-04-07      68\n",
       "Name: date_crawled, dtype: int64"
      ]
     },
     "execution_count": 51,
     "metadata": {},
     "output_type": "execute_result"
    }
   ],
   "source": [
    "date_crawled.value_counts().sort_index()"
   ]
  },
  {
   "cell_type": "markdown",
   "metadata": {},
   "source": [
    "The time frame for data crawling has been from `2016-03-05` to `2016-04-07`. We shall explore the `autos[\"ad_created\"]` column in a similar way."
   ]
  },
  {
   "cell_type": "code",
   "execution_count": 52,
   "metadata": {},
   "outputs": [
    {
     "name": "stdout",
     "output_type": "stream",
     "text": [
      "2016-04-03    0.038855\n",
      "2016-03-20    0.037949\n",
      "2016-03-21    0.037579\n",
      "2016-04-04    0.036858\n",
      "2016-03-12    0.036755\n",
      "                ...   \n",
      "2015-11-10    0.000021\n",
      "2015-12-30    0.000021\n",
      "2016-02-01    0.000021\n",
      "2015-09-09    0.000021\n",
      "2016-01-22    0.000021\n",
      "Name: ad_created, Length: 76, dtype: float64\n",
      "\n",
      "\n",
      "2016-04-03    1887\n",
      "2016-03-20    1843\n",
      "2016-03-21    1825\n",
      "2016-04-04    1790\n",
      "2016-03-12    1785\n",
      "              ... \n",
      "2015-11-10       1\n",
      "2015-12-30       1\n",
      "2016-02-01       1\n",
      "2015-09-09       1\n",
      "2016-01-22       1\n",
      "Name: ad_created, Length: 76, dtype: int64\n"
     ]
    }
   ],
   "source": [
    "ad_created = autos[\"ad_created\"].str[:10]\n",
    "print(ad_created.value_counts(normalize=True, dropna=False))\n",
    "print('\\n')\n",
    "print(ad_created.value_counts())"
   ]
  },
  {
   "cell_type": "markdown",
   "metadata": {},
   "source": [
    "On `2016-04-03`, the highest number of ad listings, i.e. 1887 ads were created. "
   ]
  },
  {
   "cell_type": "code",
   "execution_count": 53,
   "metadata": {},
   "outputs": [
    {
     "data": {
      "text/plain": [
       "2015-06-11       1\n",
       "2015-08-10       1\n",
       "2015-09-09       1\n",
       "2015-11-10       1\n",
       "2015-12-05       1\n",
       "              ... \n",
       "2016-04-03    1887\n",
       "2016-04-04    1790\n",
       "2016-04-05     574\n",
       "2016-04-06     158\n",
       "2016-04-07      61\n",
       "Name: ad_created, Length: 76, dtype: int64"
      ]
     },
     "execution_count": 53,
     "metadata": {},
     "output_type": "execute_result"
    }
   ],
   "source": [
    "ad_created.value_counts().sort_index()"
   ]
  },
  {
   "cell_type": "markdown",
   "metadata": {},
   "source": [
    "Ad listings for used cars were created in the time frame starting at `2015-06-11` and ending at `2016-04-07`.\n",
    "\n",
    "We shall now look into the `autos[\"last_seen\"]` column of the `autos` data set."
   ]
  },
  {
   "cell_type": "code",
   "execution_count": 54,
   "metadata": {},
   "outputs": [
    {
     "data": {
      "text/plain": [
       "2016-04-06    10772\n",
       "2016-04-07     6408\n",
       "2016-04-05     6059\n",
       "2016-03-17     1364\n",
       "2016-04-03     1224\n",
       "2016-04-02     1210\n",
       "2016-03-30     1203\n",
       "2016-04-04     1189\n",
       "2016-03-31     1155\n",
       "2016-03-12     1155\n",
       "2016-04-01     1107\n",
       "2016-03-29     1085\n",
       "2016-03-22     1038\n",
       "2016-03-28     1013\n",
       "2016-03-20     1003\n",
       "2016-03-21     1002\n",
       "2016-03-24      960\n",
       "2016-03-25      933\n",
       "2016-03-23      900\n",
       "2016-03-26      816\n",
       "2016-03-16      799\n",
       "2016-03-15      771\n",
       "2016-03-19      769\n",
       "2016-03-27      760\n",
       "2016-03-14      612\n",
       "2016-03-11      601\n",
       "2016-03-10      518\n",
       "2016-03-09      466\n",
       "2016-03-13      432\n",
       "2016-03-08      360\n",
       "2016-03-18      357\n",
       "2016-03-07      262\n",
       "2016-03-06      210\n",
       "2016-03-05       52\n",
       "Name: last_seen, dtype: int64"
      ]
     },
     "execution_count": 54,
     "metadata": {},
     "output_type": "execute_result"
    }
   ],
   "source": [
    "last_seen = autos[\"last_seen\"].str[:10]\n",
    "last_seen.value_counts()"
   ]
  },
  {
   "cell_type": "markdown",
   "metadata": {},
   "source": [
    "The highest number of ads last seen online are on `2016-04-06`, `10772` in number, and the lowest are on `2016-03-05`, which are only `52` in number. The same frequencies presented in percentage form along with `NaN` values are as follows."
   ]
  },
  {
   "cell_type": "code",
   "execution_count": 55,
   "metadata": {},
   "outputs": [
    {
     "name": "stdout",
     "output_type": "stream",
     "text": [
      "2016-04-06    0.221806\n",
      "2016-04-07    0.131947\n",
      "2016-04-05    0.124761\n",
      "2016-03-17    0.028086\n",
      "2016-04-03    0.025203\n",
      "2016-04-02    0.024915\n",
      "2016-03-30    0.024771\n",
      "2016-04-04    0.024483\n",
      "2016-03-31    0.023783\n",
      "2016-03-12    0.023783\n",
      "2016-04-01    0.022794\n",
      "2016-03-29    0.022341\n",
      "2016-03-22    0.021373\n",
      "2016-03-28    0.020859\n",
      "2016-03-20    0.020653\n",
      "2016-03-21    0.020632\n",
      "2016-03-24    0.019767\n",
      "2016-03-25    0.019211\n",
      "2016-03-23    0.018532\n",
      "2016-03-26    0.016802\n",
      "2016-03-16    0.016452\n",
      "2016-03-15    0.015876\n",
      "2016-03-19    0.015834\n",
      "2016-03-27    0.015649\n",
      "2016-03-14    0.012602\n",
      "2016-03-11    0.012375\n",
      "2016-03-10    0.010666\n",
      "2016-03-09    0.009595\n",
      "2016-03-13    0.008895\n",
      "2016-03-08    0.007413\n",
      "2016-03-18    0.007351\n",
      "2016-03-07    0.005395\n",
      "2016-03-06    0.004324\n",
      "2016-03-05    0.001071\n",
      "Name: last_seen, dtype: float64\n",
      "\n",
      "\n",
      "2016-03-05       52\n",
      "2016-03-06      210\n",
      "2016-03-07      262\n",
      "2016-03-08      360\n",
      "2016-03-09      466\n",
      "2016-03-10      518\n",
      "2016-03-11      601\n",
      "2016-03-12     1155\n",
      "2016-03-13      432\n",
      "2016-03-14      612\n",
      "2016-03-15      771\n",
      "2016-03-16      799\n",
      "2016-03-17     1364\n",
      "2016-03-18      357\n",
      "2016-03-19      769\n",
      "2016-03-20     1003\n",
      "2016-03-21     1002\n",
      "2016-03-22     1038\n",
      "2016-03-23      900\n",
      "2016-03-24      960\n",
      "2016-03-25      933\n",
      "2016-03-26      816\n",
      "2016-03-27      760\n",
      "2016-03-28     1013\n",
      "2016-03-29     1085\n",
      "2016-03-30     1203\n",
      "2016-03-31     1155\n",
      "2016-04-01     1107\n",
      "2016-04-02     1210\n",
      "2016-04-03     1224\n",
      "2016-04-04     1189\n",
      "2016-04-05     6059\n",
      "2016-04-06    10772\n",
      "2016-04-07     6408\n",
      "Name: last_seen, dtype: int64\n"
     ]
    }
   ],
   "source": [
    "print(last_seen.value_counts(normalize=True, dropna=False))\n",
    "print(\"\\n\")\n",
    "print(last_seen.value_counts().sort_index())"
   ]
  },
  {
   "cell_type": "markdown",
   "metadata": {},
   "source": [
    "As can be seen above, 22% of the ads are last seen on `2016-04-06`. Furthermore, ads last seen online are in the time frame from `2016-03-05` to `2016-04-07`. Lastly, we shall explore the `autos[\"registration_year\"]` column."
   ]
  },
  {
   "cell_type": "code",
   "execution_count": 56,
   "metadata": {},
   "outputs": [
    {
     "data": {
      "text/plain": [
       "count    48565.000000\n",
       "mean      2004.755421\n",
       "std         88.643887\n",
       "min       1000.000000\n",
       "25%       1999.000000\n",
       "50%       2004.000000\n",
       "75%       2008.000000\n",
       "max       9999.000000\n",
       "Name: registration_year, dtype: float64"
      ]
     },
     "execution_count": 56,
     "metadata": {},
     "output_type": "execute_result"
    }
   ],
   "source": [
    "autos[\"registration_year\"].describe()"
   ]
  },
  {
   "cell_type": "markdown",
   "metadata": {},
   "source": [
    "The `autos[\"registration_year\"]` column appears to be rather odd with the lowest value being year `1000` and the highest value being year `9999`."
   ]
  },
  {
   "cell_type": "code",
   "execution_count": 57,
   "metadata": {},
   "outputs": [
    {
     "data": {
      "text/plain": [
       "1000     1\n",
       "1001     1\n",
       "1111     1\n",
       "1800     2\n",
       "1910     5\n",
       "1927     1\n",
       "1929     1\n",
       "1931     1\n",
       "1934     2\n",
       "1937     4\n",
       "1938     1\n",
       "1939     1\n",
       "1941     2\n",
       "1943     1\n",
       "1948     1\n",
       "1950     3\n",
       "1951     2\n",
       "1952     1\n",
       "1953     1\n",
       "1954     2\n",
       "1955     2\n",
       "1956     4\n",
       "1957     2\n",
       "1958     4\n",
       "1959     6\n",
       "1960    23\n",
       "1961     6\n",
       "1962     4\n",
       "1963     8\n",
       "1964    12\n",
       "1965    17\n",
       "1966    22\n",
       "1967    26\n",
       "1968    26\n",
       "1969    19\n",
       "1970    38\n",
       "1971    26\n",
       "1972    33\n",
       "1973    23\n",
       "1974    24\n",
       "1975    18\n",
       "1976    21\n",
       "1977    22\n",
       "1978    44\n",
       "1979    34\n",
       "1980    85\n",
       "1981    28\n",
       "1982    41\n",
       "1983    51\n",
       "1984    51\n",
       "Name: registration_year, dtype: int64"
      ]
     },
     "execution_count": 57,
     "metadata": {},
     "output_type": "execute_result"
    }
   ],
   "source": [
    "# index labels denoting years arranged in an ascending order\n",
    "autos[\"registration_year\"].value_counts().sort_index().head(50)"
   ]
  },
  {
   "cell_type": "markdown",
   "metadata": {},
   "source": [
    "Any registration year before the year `1900` can be omitted safely. Also, there aren't very many registrations preceding the year `1900`. We shall now look at registration years at the tail end of this column."
   ]
  },
  {
   "cell_type": "code",
   "execution_count": 58,
   "metadata": {},
   "outputs": [
    {
     "data": {
      "text/plain": [
       "2005    2936\n",
       "2006    2670\n",
       "2007    2277\n",
       "2008    2215\n",
       "2009    2085\n",
       "2010    1589\n",
       "2011    1623\n",
       "2012    1310\n",
       "2013     803\n",
       "2014     663\n",
       "2015     392\n",
       "2016    1220\n",
       "2017    1392\n",
       "2018     470\n",
       "2019       2\n",
       "2800       1\n",
       "4100       1\n",
       "4500       1\n",
       "4800       1\n",
       "5000       4\n",
       "5911       1\n",
       "6200       1\n",
       "8888       1\n",
       "9000       1\n",
       "9999       3\n",
       "Name: registration_year, dtype: int64"
      ]
     },
     "execution_count": 58,
     "metadata": {},
     "output_type": "execute_result"
    }
   ],
   "source": [
    "# index labels denoting years arranged in a descending order\n",
    "autos[\"registration_year\"].value_counts().sort_index().tail(25)"
   ]
  },
  {
   "cell_type": "markdown",
   "metadata": {},
   "source": [
    "Any year value after the year `2016` is erroneous because the year of registration of the car cannot be ahead of the year it's ad was last seen on eBay. Hence, we can safely omit values after `2016`, though there seem to be lot of values immeadiately after the year `2016`, in `2017` and `2018` but, again, for convinience's sake we shall have to omit these values from our analysis anyway."
   ]
  },
  {
   "cell_type": "code",
   "execution_count": 59,
   "metadata": {},
   "outputs": [
    {
     "data": {
      "text/plain": [
       "count    46681.000000\n",
       "mean      2002.910756\n",
       "std          7.185103\n",
       "min       1910.000000\n",
       "25%       1999.000000\n",
       "50%       2003.000000\n",
       "75%       2008.000000\n",
       "max       2016.000000\n",
       "Name: registration_year, dtype: float64"
      ]
     },
     "execution_count": 59,
     "metadata": {},
     "output_type": "execute_result"
    }
   ],
   "source": [
    "# omit erroneous values\n",
    "autos = autos[(autos[\"registration_year\"] >= 1900) & (autos[\"registration_year\"] <= 2016)]\n",
    "autos[\"registration_year\"].describe()"
   ]
  },
  {
   "cell_type": "code",
   "execution_count": 60,
   "metadata": {},
   "outputs": [
    {
     "data": {
      "text/plain": [
       "2000    0.067608\n",
       "2005    0.062895\n",
       "1999    0.062060\n",
       "2004    0.057904\n",
       "2003    0.057818\n",
       "          ...   \n",
       "1938    0.000021\n",
       "1948    0.000021\n",
       "1927    0.000021\n",
       "1931    0.000021\n",
       "1952    0.000021\n",
       "Name: registration_year, Length: 78, dtype: float64"
      ]
     },
     "execution_count": 60,
     "metadata": {},
     "output_type": "execute_result"
    }
   ],
   "source": [
    "# display updated distribution\n",
    "autos[\"registration_year\"].value_counts(normalize=True)"
   ]
  },
  {
   "cell_type": "code",
   "execution_count": 61,
   "metadata": {},
   "outputs": [
    {
     "name": "stdout",
     "output_type": "stream",
     "text": [
      "0.980377455495812\n",
      "0.3036995779867612\n",
      "0.0002142199181679913\n"
     ]
    }
   ],
   "source": [
    "# display total percentage of registration in the last 30 years\n",
    "print(autos[\"registration_year\"].value_counts(normalize=True)\n",
    "                                .sort_index(ascending=False)\n",
    "                                .head(30)\n",
    "                                .sum()\n",
    "     )\n",
    "\n",
    "# display total percentage of registration in the last 10 years\n",
    "print(autos[\"registration_year\"].value_counts(normalize=True)\n",
    "                                .sort_index(ascending=False)\n",
    "                                .head(10)\n",
    "                                .sum()\n",
    "     )\n",
    "\n",
    "# display total percentage of registration in the last 5 years\n",
    "print(autos[\"registration_year\"].value_counts(normalize=True)\n",
    "                                .sort_index(ascending=True)\n",
    "                                .head(5)\n",
    "                                .sum()\n",
    "     )"
   ]
  },
  {
   "cell_type": "markdown",
   "metadata": {},
   "source": [
    "The vast majority, i.e. 98% of the registrations have been made in the last 30 years, 30% of the registrations have been made in the last 10 years, and only 0.02% of the registrations have been made in the last 5 years."
   ]
  },
  {
   "cell_type": "markdown",
   "metadata": {},
   "source": [
    "## Exploring Price by Brand"
   ]
  },
  {
   "cell_type": "code",
   "execution_count": 62,
   "metadata": {},
   "outputs": [
    {
     "name": "stdout",
     "output_type": "stream",
     "text": [
      "volkswagen        0.211264\n",
      "bmw               0.110045\n",
      "opel              0.107581\n",
      "mercedes_benz     0.096463\n",
      "audi              0.086566\n",
      "ford              0.069900\n",
      "renault           0.047150\n",
      "peugeot           0.029841\n",
      "fiat              0.025642\n",
      "seat              0.018273\n",
      "skoda             0.016409\n",
      "nissan            0.015274\n",
      "mazda             0.015188\n",
      "smart             0.014160\n",
      "citroen           0.014010\n",
      "toyota            0.012703\n",
      "hyundai           0.010025\n",
      "sonstige_autos    0.009811\n",
      "volvo             0.009147\n",
      "mini              0.008762\n",
      "mitsubishi        0.008226\n",
      "honda             0.007840\n",
      "kia               0.007069\n",
      "alfa_romeo        0.006641\n",
      "porsche           0.006127\n",
      "suzuki            0.005934\n",
      "chevrolet         0.005698\n",
      "chrysler          0.003513\n",
      "dacia             0.002635\n",
      "daihatsu          0.002506\n",
      "jeep              0.002271\n",
      "subaru            0.002142\n",
      "land_rover        0.002099\n",
      "saab              0.001649\n",
      "jaguar            0.001564\n",
      "daewoo            0.001500\n",
      "trabant           0.001392\n",
      "rover             0.001328\n",
      "lancia            0.001071\n",
      "lada              0.000578\n",
      "Name: brand, dtype: float64\n",
      "\n",
      "\n",
      "count          46681\n",
      "unique            40\n",
      "top       volkswagen\n",
      "freq            9862\n",
      "Name: brand, dtype: object\n"
     ]
    }
   ],
   "source": [
    "# print brand column in descending order\n",
    "print(autos[\"brand\"].value_counts(normalize=True))\n",
    "print('\\n')\n",
    "# describe brand column further\n",
    "print(autos[\"brand\"].describe())"
   ]
  },
  {
   "cell_type": "markdown",
   "metadata": {},
   "source": [
    "The first seventeen brands shall be aggregated on in our analysis based on their respective percentages in the data set as further key:value pairs hold values too small to be considered in our current analysis."
   ]
  },
  {
   "cell_type": "code",
   "execution_count": 63,
   "metadata": {},
   "outputs": [
    {
     "name": "stdout",
     "output_type": "stream",
     "text": [
      "Top 17 Brands: \n",
      "['volkswagen', 'bmw', 'opel', 'mercedes_benz', 'audi', 'ford', 'renault', 'peugeot', 'fiat', 'seat', 'skoda', 'nissan', 'mazda', 'smart', 'citroen', 'toyota', 'hyundai']\n"
     ]
    }
   ],
   "source": [
    "# create list to store top seventeen brands\n",
    "car_brands = autos[\"brand\"].value_counts(normalize=True).head(17).index\n",
    "\n",
    "# print top seventeen brands\n",
    "print(f\"Top 17 Brands: \\n{list(car_brands)}\")"
   ]
  },
  {
   "cell_type": "markdown",
   "metadata": {},
   "source": [
    "The top twenty brands with their respective percentages are as follows:\n",
    "\n",
    "- Volkswagen - 21.1%\n",
    "- BMW - 11%\n",
    "- Opel - 10.8%\n",
    "- Mercedes Benz - 9.6%\n",
    "- Audi - 8.7%\n",
    "- Ford - 7%\n",
    "- Renault - 4.7%\n",
    "- Peugeot - 3%\n",
    "- Fiat - 2.6%\n",
    "- Seat - 1.8%\n",
    "- Skoda - 1.6%\n",
    "- Nissan - 1.53%\n",
    "- Mazda - 1.52%\n",
    "- Smart - 1.41%\n",
    "- Citroen - 1.4%\n",
    "- Toyota - 1.3%\n",
    "- Hyundai - 1%\n",
    "- Sonstige Autos - 0.98%\n",
    "- Volvo - 0.91%\n",
    "- Mini - 0.88%"
   ]
  },
  {
   "cell_type": "code",
   "execution_count": 64,
   "metadata": {},
   "outputs": [
    {
     "name": "stdout",
     "output_type": "stream",
     "text": [
      "{'audi': 9336.687453600594, 'mercedes_benz': 8628.450366422385, 'bmw': 8332.820517811953, 'skoda': 6368.0, 'volkswagen': 5402.410261610221, 'hyundai': 5365.254273504273, 'toyota': 5167.091062394604, 'nissan': 4743.40252454418, 'seat': 4397.230949589683, 'mazda': 4112.596614950635, 'citroen': 3779.1391437308866, 'ford': 3749.4695065890287, 'smart': 3580.2239031770046, 'peugeot': 3094.0172290021537, 'opel': 2975.2419354838707, 'fiat': 2813.748538011696, 'renault': 2474.8646069968195}\n"
     ]
    }
   ],
   "source": [
    "# create empty dictionary to store aggregate data\n",
    "brand_agg = {}\n",
    "\n",
    "# loop through car_brands to select data\n",
    "for brand in car_brands:\n",
    "    selected_rows = autos[autos[\"brand\"] == brand]\n",
    "    avg_price = selected_rows[\"price_dollars\"].mean()\n",
    "    brand_agg[brand] = avg_price\n",
    "    \n",
    "# arrange dictionary values in a descending order\n",
    "sorted_dict = dict(sorted(brand_agg.items(),\n",
    "       key=lambda x: x[1],\n",
    "       reverse=True)) \n",
    "\n",
    "print(sorted_dict)"
   ]
  },
  {
   "cell_type": "markdown",
   "metadata": {},
   "source": [
    "The most highly priced cars, on average, are made by Audi, followed by Mercedes Benz and BMW, at number two and three, after that we jump to a middle section of brands like Volkswagen, Hyundai and Nissan, and lastly we can find brands like Peugeot, Opel and Fiat which are at the less expensive end, with Renault being the least expensive among the seventeen."
   ]
  },
  {
   "cell_type": "markdown",
   "metadata": {},
   "source": [
    "## Storing Aggregate Data in a DataFrame"
   ]
  },
  {
   "cell_type": "code",
   "execution_count": 67,
   "metadata": {},
   "outputs": [],
   "source": [
    "# create empty dictionary to store aggregate data\n",
    "mean_mileage = {}\n",
    "\n",
    "# loop through car_brands to select data\n",
    "for brand in car_brands:\n",
    "    selected_rows = autos[autos[\"brand\"] == brand]\n",
    "    avg_mileage = selected_rows[\"odometer_km\"].mean()\n",
    "    mean_mileage[brand] = avg_mileage"
   ]
  },
  {
   "cell_type": "code",
   "execution_count": 86,
   "metadata": {},
   "outputs": [
    {
     "data": {
      "text/html": [
       "<div>\n",
       "<style scoped>\n",
       "    .dataframe tbody tr th:only-of-type {\n",
       "        vertical-align: middle;\n",
       "    }\n",
       "\n",
       "    .dataframe tbody tr th {\n",
       "        vertical-align: top;\n",
       "    }\n",
       "\n",
       "    .dataframe thead th {\n",
       "        text-align: right;\n",
       "    }\n",
       "</style>\n",
       "<table border=\"1\" class=\"dataframe\">\n",
       "  <thead>\n",
       "    <tr style=\"text-align: right;\">\n",
       "      <th></th>\n",
       "      <th>mean_price</th>\n",
       "      <th>mean_mileage</th>\n",
       "    </tr>\n",
       "  </thead>\n",
       "  <tbody>\n",
       "    <tr>\n",
       "      <th>audi</th>\n",
       "      <td>9336.69</td>\n",
       "      <td>129157.39</td>\n",
       "    </tr>\n",
       "    <tr>\n",
       "      <th>mercedes_benz</th>\n",
       "      <td>8628.45</td>\n",
       "      <td>130788.36</td>\n",
       "    </tr>\n",
       "    <tr>\n",
       "      <th>bmw</th>\n",
       "      <td>8332.82</td>\n",
       "      <td>132572.51</td>\n",
       "    </tr>\n",
       "    <tr>\n",
       "      <th>skoda</th>\n",
       "      <td>6368.00</td>\n",
       "      <td>110848.56</td>\n",
       "    </tr>\n",
       "    <tr>\n",
       "      <th>volkswagen</th>\n",
       "      <td>5402.41</td>\n",
       "      <td>128707.16</td>\n",
       "    </tr>\n",
       "    <tr>\n",
       "      <th>hyundai</th>\n",
       "      <td>5365.25</td>\n",
       "      <td>106442.31</td>\n",
       "    </tr>\n",
       "  </tbody>\n",
       "</table>\n",
       "</div>"
      ],
      "text/plain": [
       "               mean_price  mean_mileage\n",
       "audi              9336.69     129157.39\n",
       "mercedes_benz     8628.45     130788.36\n",
       "bmw               8332.82     132572.51\n",
       "skoda             6368.00     110848.56\n",
       "volkswagen        5402.41     128707.16\n",
       "hyundai           5365.25     106442.31"
      ]
     },
     "execution_count": 86,
     "metadata": {},
     "output_type": "execute_result"
    }
   ],
   "source": [
    "# create price series\n",
    "price_series = pd.Series(sorted_dict).round(2)\n",
    "\n",
    "# create mileage series\n",
    "mileage_series = pd.Series(mean_mileage).round(2)\n",
    "\n",
    "# create data frame\n",
    "price_mileage = pd.DataFrame(price_series, columns=[\"mean_price\"])\n",
    "price_mileage[\"mean_mileage\"] = mileage_series\n",
    "\n",
    "price_mileage.head(6)"
   ]
  },
  {
   "cell_type": "markdown",
   "metadata": {},
   "source": [
    "The above table makes it abundantly clear that there is no meaningful relationship among the mean prices and the mean mileages with average prices having a comparitively lower range ($5365.25 - $9336.69) and average mileage having bit higher range (106442.31km - 132572.51km)."
   ]
  },
  {
   "cell_type": "markdown",
   "metadata": {},
   "source": [
    "## Conclusion\n",
    "\n",
    "- There is no meaningful relationship between the average prices and average mileages of the top six brands.\n",
    "\n",
    "- Germans prefer german made cars the most as the top five brands on average with regard to the number of adverts posted online are all german.\n",
    "\n",
    "- The most expensive cars on the platform are also german with Audi, Mercedes Benz and BMW being the top three most expensive on average in the data.\n",
    "\n",
    "- The vast majority, i.e. 98% of the registrations, for cars on the platform, have been made in the last 30 years, 30% of the registrations have been made in the last 10 years, and only 0.02% of the registrations have been made in the last 5 years.\n",
    "\n",
    "- The highest number of ads last seen online are on `2016-04-06`, `10772` in number, and the lowest are on `2016-03-05`, which are only `52` in number.\n",
    "\n",
    "- The highest data crawling has been done on 2016-04-03, whereas the time frame for data crawling has been from 2016-03-05 to 2016-04-07."
   ]
  }
 ],
 "metadata": {
  "kernelspec": {
   "display_name": "Python 3",
   "language": "python",
   "name": "python3"
  },
  "language_info": {
   "codemirror_mode": {
    "name": "ipython",
    "version": 3
   },
   "file_extension": ".py",
   "mimetype": "text/x-python",
   "name": "python",
   "nbconvert_exporter": "python",
   "pygments_lexer": "ipython3",
   "version": "3.8.5"
  }
 },
 "nbformat": 4,
 "nbformat_minor": 2
}
